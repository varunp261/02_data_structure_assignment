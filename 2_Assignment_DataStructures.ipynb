{
 "cells": [
  {
   "cell_type": "code",
   "execution_count": 1,
   "id": "e7079296-42a3-4e56-8467-8ccf79eb23c2",
   "metadata": {},
   "outputs": [
    {
     "name": "stdout",
     "output_type": "stream",
     "text": [
      "Hello\n"
     ]
    }
   ],
   "source": [
    "# 1) Discuss string slicing and provide examples\n",
    "'''\n",
    "\n",
    "String slicing is a method in Python used to extract a portion or segment of a string. It allows you to access a specific range of characters \n",
    "within the string using a special syntax. The general syntax for\n",
    "\n",
    "syntax: string[start:stop:step]\n",
    "\n",
    "\n",
    "'''\n",
    "#eg\n",
    "\n",
    "text = \"Hello, World!\"\n",
    "print(text[0:5])  \n",
    "\n",
    "\n"
   ]
  },
  {
   "cell_type": "code",
   "execution_count": 1,
   "id": "fe142f39-9bf5-4535-960f-1a04d057003d",
   "metadata": {},
   "outputs": [
    {
     "name": "stdout",
     "output_type": "stream",
     "text": [
      "Element at index 0: 10\n",
      "Element at index 1: Python\n",
      "Modified list: [10, 'Python', 'pi', True]\n",
      "List after removing True: [10, 'Python', 'pi']\n",
      "Sliced list: ['Python', 'pi']\n"
     ]
    }
   ],
   "source": [
    "# 2) Explain the key features of lists in the python\n",
    "\n",
    "'''\n",
    "Ordered: Lists maintain the order of elements, meaning elements can be accessed by their index positions, starting from 0.\n",
    "\n",
    "Mutable: Lists are mutable, meaning their elements can be changed, added, or removed after the list is created.\n",
    "\n",
    "Slicing: Lists support slicing, allowing you to access a subset of elements using a range of indices.\n",
    "\n",
    "Dynamic: The size of a list can change dynamically, as elements can be added or removed without restrictions.\n",
    "\n",
    "'''\n",
    "\n",
    "\n",
    "my_list = [10, \"Python\", 3.14, True]\n",
    "\n",
    "# Accessing elements by index\n",
    "print(\"Element at index 0:\", my_list[0]) \n",
    "print(\"Element at index 1:\", my_list[1])  \n",
    "\n",
    "# Modifying an element (lists are mutable)\n",
    "my_list[2] = \"pi\"\n",
    "print(\"Modified list:\", my_list)  \n",
    "\n",
    "\n",
    "# Removing elements\n",
    "my_list.remove(True)\n",
    "print(\"List after removing True:\", my_list)  \n",
    "\n",
    "# Slicing the list\n",
    "subset = my_list[1:3]\n",
    "print(\"Sliced list:\", subset) \n",
    "\n"
   ]
  },
  {
   "cell_type": "code",
   "execution_count": 6,
   "id": "28a0ee24-ccef-47c9-a7e7-72012b7ff31e",
   "metadata": {},
   "outputs": [
    {
     "name": "stdout",
     "output_type": "stream",
     "text": [
      "apple\n",
      "cherry\n",
      "['date', 'cherry', 'banana', 'apple']\n"
     ]
    },
    {
     "data": {
      "text/plain": [
       "['apple', 'guava', 'cherry', 'date']"
      ]
     },
     "execution_count": 6,
     "metadata": {},
     "output_type": "execute_result"
    }
   ],
   "source": [
    "# 3) Describe how to access, modify and delete elements present in the list with an example\n",
    "\n",
    "#Accesing the list elements\n",
    "\n",
    "fruits = [\"apple\", \"banana\", \"cherry\", \"date\"]\n",
    "\n",
    "print(fruits[0])\n",
    "print(fruits[2])\n",
    "print(fruits[::-1])\n",
    "\n",
    "\n",
    "# Modifiying the list elements\n",
    "\n",
    "fruits[1] = 'guava'\n",
    "fruits\n",
    "\n",
    "# Deleting the list elements \n",
    "'''\n",
    "There are multiple ways to delete elements from a list:\n",
    "\n",
    "Using del keyword: Deletes an element at a specified index.\n",
    "\n",
    "Using remove() method: Removes the first occurrence of a specified value.\n",
    "\n",
    "Using pop() method: Removes and returns an element at a specified index (default is the last element).\n",
    "\n",
    "'''\n",
    "\n",
    "# Using 'del' to delete an element by index\n",
    "del fruits[2]\n",
    "print(fruits)  \n",
    "\n",
    "# Using 'remove()' to delete by value\n",
    "fruits.remove(\"blueberry\")\n",
    "print(fruits)  \n",
    "\n",
    "# Using 'pop()' to delete by index and return the removed element\n",
    "removed_item = fruits.pop(0)\n",
    "print(\"Removed item:\", removed_item)  \n",
    "print(fruits)  \n"
   ]
  },
  {
   "cell_type": "code",
   "execution_count": 7,
   "id": "d3a75682-ea51-41e9-9e32-9796f993a003",
   "metadata": {},
   "outputs": [
    {
     "name": "stdout",
     "output_type": "stream",
     "text": [
      "['apple', 'blueberry', 'cherry', 'date']\n",
      "('red', 'green', 'blue')\n"
     ]
    }
   ],
   "source": [
    "# 4) Compare and contracst the difference between tuples and list\n",
    "\n",
    "'''\n",
    "Lists are mutable, meaning you can modify (add, remove, or change) their elements after creation, they are defined using the square bracket []\n",
    "\n",
    "Tuples are immutable, so once they are created, their elements cannot be changed, defined using the parenthesis()\n",
    "\n",
    "'''\n",
    "\n",
    "#eg List \n",
    "\n",
    "# Creating and modifying a list\n",
    "fruits = [\"apple\", \"banana\", \"cherry\"]\n",
    "fruits[1] = \"blueberry\"  # Modifying element\n",
    "fruits.append(\"date\")    # Adding an element\n",
    "print(fruits)  \n",
    "\n",
    "\n",
    "\n",
    "#eg Tuple\n",
    "# Creating a tuple\n",
    "colors = (\"red\", \"green\", \"blue\")\n",
    "# colors[1] = \"yellow\"  # This would raise an error since tuples are immutable\n",
    "print(colors)  \n",
    "\n"
   ]
  },
  {
   "cell_type": "code",
   "execution_count": 9,
   "id": "2e64cb07-1220-4014-89a8-ce6a807ebcb7",
   "metadata": {},
   "outputs": [
    {
     "name": "stdout",
     "output_type": "stream",
     "text": [
      "{1, 2, 3, 4, 5}\n",
      "{3}\n",
      "{1, 2}\n",
      "{1, 2, 4, 5}\n"
     ]
    }
   ],
   "source": [
    "# 5) Describe the key features of sets and provide examples in their use\n",
    "\n",
    "'''\n",
    "Sets are unordered, meaning that they do not maintain a specific sequence of elements.\n",
    "\n",
    "Sets do not allow duplicate elements. Each element in a set must be unique, making them useful for removing duplicates from a collection of data.\n",
    "\n",
    "The values present in the sets can be modified as well as deleted.\n",
    "\n",
    "'''\n",
    "#e.g.\n",
    "\n",
    "set_a = {1, 2, 3}\n",
    "set_b = {3, 4, 5}\n",
    "union_set = set_a | set_b\n",
    "print(union_set)  \n",
    "\n",
    "\n",
    "#intersection \n",
    "\n",
    "intersection_set = set_a & set_b\n",
    "print(intersection_set)  \n",
    "\n",
    "\n",
    "# difference\n",
    "\n",
    "difference_set = set_a - set_b\n",
    "print(difference_set)  \n",
    "\n",
    "\n",
    "#symmetric difference i.e(elements which are unique i.e not common in both sets)\n",
    "\n",
    "symmetric_difference_set = set_a ^ set_b\n",
    "print(symmetric_difference_set)  # Output: {1, 2, 4, 5}\n",
    "\n"
   ]
  },
  {
   "cell_type": "code",
   "execution_count": 12,
   "id": "f1236430-77e7-4c87-a807-bccd1f85d02c",
   "metadata": {},
   "outputs": [
    {
     "ename": "TypeError",
     "evalue": "'tuple' object does not support item assignment",
     "output_type": "error",
     "traceback": [
      "\u001b[1;31m---------------------------------------------------------------------------\u001b[0m",
      "\u001b[1;31mTypeError\u001b[0m                                 Traceback (most recent call last)",
      "Cell \u001b[1;32mIn[12], line 20\u001b[0m\n\u001b[0;32m     17\u001b[0m \u001b[38;5;66;03m# eg. tuples to store fixed values\u001b[39;00m\n\u001b[0;32m     19\u001b[0m location \u001b[38;5;241m=\u001b[39m (\u001b[38;5;241m40.7128\u001b[39m, \u001b[38;5;241m-\u001b[39m\u001b[38;5;241m74.0060\u001b[39m)  \u001b[38;5;66;03m# (latitude, longitude) for New York City\u001b[39;00m\n\u001b[1;32m---> 20\u001b[0m location[\u001b[38;5;241m1\u001b[39m] \u001b[38;5;241m=\u001b[39m \u001b[38;5;241m31.199\u001b[39m\n",
      "\u001b[1;31mTypeError\u001b[0m: 'tuple' object does not support item assignment"
     ]
    }
   ],
   "source": [
    "# 6) Discuss the use cases of tuples and sets in python programming\n",
    "'''\n",
    "Tuples:- Tuples are immutable, making them ideal for storing data that should not change, \n",
    "such as configuration settings or fixed records like geographic coordinates.\n",
    "\n",
    "Sets:- They automatically eliminate duplicate elements, making them ideal for tasks that require a collection of unique items.\n",
    "Sets offer fast membership testing, allowing quick checks to see if an element exists within the set, which is useful for filtering or lookup operations.\n",
    "\n",
    "'''\n",
    "\n",
    "#e.g to remove duplicate values present in the datbase\n",
    "numbers = [1, 2, 2, 3, 4, 4, 5]\n",
    "unique_numbers = set(numbers)  # {1, 2, 3, 4, 5}\n",
    "unique_numbers\n",
    "\n",
    "\n",
    "# eg. tuples to store fixed values\n",
    "\n",
    "location = (40.7128, -74.0060)  # (latitude, longitude) for New York City\n",
    "location[1] = 31.199"
   ]
  },
  {
   "cell_type": "code",
   "execution_count": 16,
   "id": "cb9e63d2-3c71-4045-ae8f-28431888219e",
   "metadata": {},
   "outputs": [
    {
     "name": "stdout",
     "output_type": "stream",
     "text": [
      "{'name': 'Alice', 'age': 25, 'city': 'New York'}\n",
      "{'name': 'Alice', 'age': 30, 'city': 'Los Angeles', 'country': 'USA', 'profession': 'Engineer'}\n"
     ]
    }
   ],
   "source": [
    "# 7) Describe how to add, modify and delete items in a dictionary with examples\n",
    "\n",
    "'''\n",
    "Dictionary :- A dictionary in Python is an unordered, mutable (modifiable), and indexed collection of data that stores data in key-value pairs. \n",
    "Each key in a dictionary must be unique and is used to access the corresponding value. \n",
    "\n",
    "They follow the characteristics like unordered, mutable, indexed, unique\n",
    "\n",
    "'''\n",
    "\n",
    "\n",
    "#e.g. Adding items in the dictionary\n",
    "# Creating an empty dictionary\n",
    "my_dict = {}\n",
    "\n",
    "# Adding key-value pairs\n",
    "my_dict['name'] = 'Alice'\n",
    "my_dict['age'] = 25\n",
    "my_dict['city'] = 'New York'\n",
    "\n",
    "print(my_dict)\n",
    "\n",
    "#updating the values present in the dictionary\n",
    "my_dict.update({'country': 'USA', 'profession': 'Engineer'})\n",
    "my_dict\n",
    "\n",
    "\n",
    "# Modifying an existing item\n",
    "my_dict['age'] = 30\n",
    "my_dict['city'] = 'Los Angeles'\n",
    "\n",
    "print(my_dict)\n",
    "\n",
    "#For removing the items there are different functions for it, \n",
    "#pop() - to remove any item based on its keyvalue \n",
    "removed_item = my_dict.pop('country')\n",
    "print('Removed item:', removed_item)\n",
    "print(my_dict)\n",
    "\n",
    "\n",
    "# popitem() to remove the last inserted item\n",
    "last_item = my_dict.popitem()\n",
    "print('Last item removed:', last_item)\n",
    "print(my_dict)\n",
    "\n",
    "# clear() - to remove all the elements\n",
    "my_dict.clear()\n",
    "print(my_dict)\n",
    "\n",
    "#del() - to remove a specific item by key\n",
    "del my_dict['profession']\n",
    "print(my_dict)\n"
   ]
  },
  {
   "cell_type": "code",
   "execution_count": null,
   "id": "236b79ee-9006-4be8-ad5e-7dabfe835922",
   "metadata": {},
   "outputs": [],
   "source": [
    "# 8) Discuss the importance of dictionary keys being immutable and provide examples\n",
    "\n",
    "'''\n",
    "\n",
    "Dictionary keys must be immutable, meaning they cannot be changed after they are created, thus ensuring data integrity and allowing \n",
    "the hash table to quickly compute and access keys.\n",
    "\n",
    "'''\n",
    "\n",
    "# Valid Immutable Keys\n",
    "# Using integers, strings, and tuples (which are immutable) as keys\n",
    "my_dict = {\n",
    "    1: \"One\",\n",
    "    \"name\": \"Alice\",\n",
    "    (2, 3): \"Tuple as a key\"\n",
    "}\n",
    "print(my_dict[1])         # Output: One\n",
    "print(my_dict[\"name\"])    # Output: Alice\n",
    "print(my_dict[(2, 3)])    # Output: Tuple as a key\n",
    "\n",
    "#nvalid Mutable Key\n",
    "my_list = [1, 2, 3]\n",
    "# Attempting to use a list (mutable) as a dictionary key\n",
    "try:\n",
    "    my_dict = {my_list: \"List as a key\"}  # This will raise a TypeError\n",
    "except TypeError as e:\n",
    "    print(e)  # Output: unhashable type: 'list'\n",
    "\n"
   ]
  }
 ],
 "metadata": {
  "kernelspec": {
   "display_name": "Python 3 (ipykernel)",
   "language": "python",
   "name": "python3"
  },
  "language_info": {
   "codemirror_mode": {
    "name": "ipython",
    "version": 3
   },
   "file_extension": ".py",
   "mimetype": "text/x-python",
   "name": "python",
   "nbconvert_exporter": "python",
   "pygments_lexer": "ipython3",
   "version": "3.11.7"
  }
 },
 "nbformat": 4,
 "nbformat_minor": 5
}
